{
 "cells": [
  {
   "attachments": {},
   "cell_type": "markdown",
   "metadata": {},
   "source": [
    "# **Experimentation - Report** <br>\n",
    "\n",
    "#### ***Introduction to the test***\n",
    "\n",
    "\n",
    "In this test we were instructed to select 3 of the following datasets:\n",
    "- 2023 QS World University Rankings\n",
    "- Student Marks\n",
    "- Student performance \n",
    "- Wine quality\n",
    "- Space Titanic\n",
    "\n",
    " **Created by Ron Ismaili**"
   ]
  },
  {
   "attachments": {},
   "cell_type": "markdown",
   "metadata": {},
   "source": [
    "#### ***Table of contents***\n",
    "\n",
    "- Introduction to the test (include the table of contents)\n",
    "- Table of contents\n",
    "- My selection\n",
    "- First look at the datasets\n",
    "- Which algorithms am I going to use for which dataset\n",
    "- Initial scores for the algorithms\n",
    "- Data pre-processing (cleaning & scaling)\n",
    "- Post-pre-processing scores\n",
    "- Data analysis\n",
    "- Final scores and conclusions"
   ]
  },
  {
   "attachments": {},
   "cell_type": "markdown",
   "metadata": {},
   "source": [
    "#### ***My selection***\n",
    "\n",
    "I have chosen the following 3 datasets:\n",
    "- Student Marks : The data consists of Marks of students including their study time & number of courses.\n",
    "- Wine Quality : The data consists of different characteristics of red wine and their quality.\n",
    "- Student Data : The data consists of 33 different features."
   ]
  },
  {
   "attachments": {},
   "cell_type": "markdown",
   "metadata": {},
   "source": [
    "#### ***First look at the datasets***\n",
    "\n",
    "We start the project as any other by importing all of the necessary libraries."
   ]
  },
  {
   "cell_type": "code",
   "execution_count": null,
   "metadata": {},
   "outputs": [],
   "source": [
    "import pandas as pd\n",
    "import numpy as np\n",
    "from sklearn.model_selection import train_test_split\n",
    "from sklearn.neighbors import KNeighborsRegressor\n",
    "from sklearn.neighbors import KNeighborsClassifier\n",
    "from sklearn.linear_model import Ridge\n",
    "from sklearn.linear_model import Lasso\n",
    "from sklearn.linear_model import LogisticRegression\n",
    "from sklearn.tree import DecisionTreeRegressor\n",
    "from sklearn.tree import DecisionTreeClassifier\n",
    "from sklearn.preprocessing import MinMaxScaler\n",
    "from sklearn import preprocessing\n",
    "import seaborn as sns\n",
    "import matplotlib.pyplot as plt"
   ]
  },
  {
   "attachments": {},
   "cell_type": "markdown",
   "metadata": {},
   "source": [
    "We follow up by loading into our file the following 3 datasets:\n",
    "- \"Student_Marks.csv\"\n",
    "- \"winequality-red.csv\"\n",
    "- \"student_data.csv\""
   ]
  },
  {
   "cell_type": "code",
   "execution_count": null,
   "metadata": {},
   "outputs": [],
   "source": [
    "StudentMarks_df = pd.read_csv(\"Student_Marks.csv\")\n",
    "WineQuality_df = pd.read_csv(\"winequality-red.csv\")\n",
    "StudentData_df = pd.read_csv(\"student_data.csv\")"
   ]
  },
  {
   "attachments": {},
   "cell_type": "markdown",
   "metadata": {},
   "source": [
    "Then we take a look at their **dataframes**, **shapes** & **keys**."
   ]
  },
  {
   "cell_type": "code",
   "execution_count": null,
   "metadata": {},
   "outputs": [],
   "source": [
    "display(StudentMarks_df)\n",
    "print(\"Data Keys:\\n\", StudentMarks_df.keys(), \"\\n\\nData Shape:\\n\", StudentMarks_df.shape)\n",
    "\n",
    "display(WineQuality_df)\n",
    "print(\"Data Keys:\\n\", WineQuality_df.keys(), \"\\n\\nData Shape:\\n\", WineQuality_df.shape)\n",
    "\n",
    "display(StudentData_df)\n",
    "print(\"Data Keys:\\n\", StudentData_df.keys(), \"\\n\\nData Shape:\\n\", StudentData_df.shape)"
   ]
  },
  {
   "attachments": {},
   "cell_type": "markdown",
   "metadata": {},
   "source": [
    "#### ***Which algorithms am I going to use for which dataset***\n",
    "\n",
    "The following algorithms will be used\n",
    "- Student Marks: KNN regressor, Lasso, Decision Tree Regressor\n",
    "- Wine Quality: KNN regressor, Ridge, Decision Tree Regressor\n",
    "- Student Data: KNN regressor, Lasso, Decision Tree Regressor"
   ]
  },
  {
   "attachments": {},
   "cell_type": "markdown",
   "metadata": {},
   "source": [
    "#### ***Initial scores for the algorithms***\n",
    "\n",
    "I cannot use strings in the dataset to train my model for the Student Data, that is why we will create the model after the pre-processing step.\n",
    "\n",
    "I left every algorithm variable unspecified un purpose. I will play around with alpha, max_depth, etc. in the data analysis section."
   ]
  },
  {
   "cell_type": "code",
   "execution_count": null,
   "metadata": {},
   "outputs": [],
   "source": [
    "#I use the train_test_split function to split the data for the first 2 datasets\n",
    "StudentMarks_features = StudentMarks_df.loc[:, \"number_courses\":\"time_study\"] #I get all of the features\n",
    "StudentMarks_label = StudentMarks_df[\"Marks\"] #I get the label (target value)\n",
    "StudentMarks_features_train, StudentMarks_features_test, StudentMarks_label_train, StudentMarks_label_test = train_test_split(StudentMarks_features, StudentMarks_label, random_state = 69)\n",
    "\n",
    "WineQuality_features = WineQuality_df.loc[:, \"fixed acidity\":\"alcohol\"] #I get all of the features\n",
    "WineQuality_label = WineQuality_df[\"quality\"] #I get the label (target value)\n",
    "WineQuality_features_train, WineQuality_features_test, WineQuality_label_train, WineQuality_label_test = train_test_split(WineQuality_features, WineQuality_label, random_state = 69)\n",
    "\n",
    "knn1 = KNeighborsRegressor(n_neighbors = 2).fit(StudentMarks_features_train , StudentMarks_label_train) \n",
    "lasso = Lasso().fit(StudentMarks_features_train, StudentMarks_label_train) \n",
    "tree1 = DecisionTreeRegressor().fit(StudentMarks_features_train, StudentMarks_label_train)\n",
    "\n",
    "knn2 = KNeighborsRegressor(n_neighbors = 2).fit(WineQuality_features_train , WineQuality_label_train)\n",
    "ridge = Ridge().fit(WineQuality_features_train, WineQuality_label_train)\n",
    "tree2 = DecisionTreeRegressor().fit(WineQuality_features_train, WineQuality_label_train)"
   ]
  },
  {
   "cell_type": "code",
   "execution_count": null,
   "metadata": {},
   "outputs": [],
   "source": [
    "def knn1Score(StudentMarks_features_train, StudentMarks_label_train, StudentMarks_features_test, StudentMarks_label_test):\n",
    "    train_score = knn1.score(StudentMarks_features_train, StudentMarks_label_train)\n",
    "    test_score = knn1.score(StudentMarks_features_test, StudentMarks_label_test)\n",
    "    return train_score, test_score\n",
    "\n",
    "def lassoScore(StudentMarks_features_train, StudentMarks_label_train, StudentMarks_features_test, StudentMarks_label_test):\n",
    "    train_score = lasso.score(StudentMarks_features_train, StudentMarks_label_train)\n",
    "    test_score = lasso.score(StudentMarks_features_test, StudentMarks_label_test)\n",
    "    return train_score, test_score\n",
    "\n",
    "def tree1Score(StudentMarks_features_train, StudentMarks_label_train, StudentMarks_features_test, StudentMarks_label_test):\n",
    "    train_score = tree1.score(StudentMarks_features_train, StudentMarks_label_train)\n",
    "    test_score = tree1.score(StudentMarks_features_test, StudentMarks_label_test)\n",
    "    return train_score, test_score\n",
    "\n",
    "def knn2Score(WineQuality_features_train, WineQuality_label_train, WineQuality_features_test, WineQuality_label_test):\n",
    "    train_score = knn2.score(WineQuality_features_train, WineQuality_label_train)\n",
    "    test_score = knn2.score(WineQuality_features_test, WineQuality_label_test)\n",
    "    return train_score, test_score\n",
    "\n",
    "def ridgeScore(WineQuality_features_train, WineQuality_label_train, WineQuality_features_test, WineQuality_label_test):\n",
    "    train_score = ridge.score(WineQuality_features_train, WineQuality_label_train)\n",
    "    test_score = ridge.score(WineQuality_features_test, WineQuality_label_test)\n",
    "    return train_score, test_score\n",
    "\n",
    "def tree2Score(WineQuality_features_train, WineQuality_label_train, WineQuality_features_test, WineQuality_label_test):\n",
    "    train_score = tree2.score(WineQuality_features_train, WineQuality_label_train)\n",
    "    test_score = tree2.score(WineQuality_features_test, WineQuality_label_test)\n",
    "    return train_score, test_score\n",
    "\n",
    "knn1_train_score, knn1_test_score = knn1Score(StudentMarks_features_train, StudentMarks_label_train, StudentMarks_features_test, StudentMarks_label_test)\n",
    "lasso_train_score, lasso_test_score = lassoScore(StudentMarks_features_train, StudentMarks_label_train, StudentMarks_features_test, StudentMarks_label_test)\n",
    "tree1_train_score, tree1_test_score = tree1Score(StudentMarks_features_train, StudentMarks_label_train, StudentMarks_features_test, StudentMarks_label_test)\n",
    "\n",
    "knn2_train_score, knn2_test_score = knn2Score(WineQuality_features_train, WineQuality_label_train, WineQuality_features_test, WineQuality_label_test)\n",
    "ridge_train_score, ridge_test_score = ridgeScore(WineQuality_features_train, WineQuality_label_train, WineQuality_features_test, WineQuality_label_test)\n",
    "tree2_train_score, tree2_test_score = tree2Score(WineQuality_features_train, WineQuality_label_train, WineQuality_features_test, WineQuality_label_test)"
   ]
  },
  {
   "cell_type": "code",
   "execution_count": null,
   "metadata": {},
   "outputs": [],
   "source": [
    "def printKnn1(knn1_train_score, knn1_test_score):\n",
    "    print(\"Student Marks KNN Regressor - Training set score: {:.4f}\".format(knn1_train_score))\n",
    "    print(\"Student Marks KNN Regressor - Test set score: {:.4f}\".format(knn1_test_score))\n",
    "\n",
    "def printLasso(lasso_train_score, lasso_test_score):\n",
    "    print(\"\\nStudent Marks Lasso - Training set score: {:.4f}\".format(lasso_train_score))\n",
    "    print(\"Student Marks Lasso - Test set score: {:.4f}\".format(lasso_test_score))\n",
    "\n",
    "def printTree1(tree1_train_score, tree1_test_score):\n",
    "    print(\"\\nStudent Marks Decision Tree Regressor - Training set score: {:.4f}\".format(tree1_train_score))\n",
    "    print(\"Student Marks Decision Tree Regressor - Test set score: {:.4f}\".format(tree1_test_score))\n",
    "\n",
    "def printKnn2(knn2_train_score, knn2_test_score):\n",
    "    print(\"\\nWine Quality KNN Regressor - Training set score: {:.4f}\".format(knn2_train_score))\n",
    "    print(\"Wine Quality KNN Regressor - Test set score: {:.4f}\".format(knn2_test_score))\n",
    "\n",
    "def printRidge(ridge_train_score, ridge_test_score):\n",
    "    print(\"\\nWine Quality Ridge - Training set score: {:.4f}\".format(ridge_train_score))\n",
    "    print(\"Wine Quality Ridge - Test set score: {:.4f}\".format(ridge_test_score))\n",
    "\n",
    "def printTree2(tree2_train_score, tree2_test_score):\n",
    "    print(\"\\nWine Quality Decision Tree Regressor - Training set score: {:.4f}\".format(tree2_train_score))\n",
    "    print(\"Wine Quality Decision Tree Regressor - Test set score: {:.4f}\".format(tree2_test_score))\n",
    "\n",
    "def printStudentMark():\n",
    "    printKnn1(knn1_train_score, knn1_test_score)\n",
    "    printLasso(lasso_train_score, lasso_test_score)\n",
    "    printTree1(tree1_train_score, tree1_test_score)\n",
    "\n",
    "def printWineQuality():\n",
    "    printKnn2(knn2_train_score, knn2_test_score)\n",
    "    printRidge(ridge_train_score, ridge_test_score)\n",
    "    printTree2(tree2_train_score, tree2_test_score)"
   ]
  },
  {
   "attachments": {},
   "cell_type": "markdown",
   "metadata": {},
   "source": [
    "Student Marks accuracy score"
   ]
  },
  {
   "cell_type": "code",
   "execution_count": null,
   "metadata": {},
   "outputs": [],
   "source": [
    "printStudentMark()"
   ]
  },
  {
   "attachments": {},
   "cell_type": "markdown",
   "metadata": {},
   "source": [
    "Wine Quality accuracy score"
   ]
  },
  {
   "cell_type": "code",
   "execution_count": null,
   "metadata": {},
   "outputs": [],
   "source": [
    "printWineQuality()"
   ]
  },
  {
   "attachments": {},
   "cell_type": "markdown",
   "metadata": {},
   "source": [
    "#### ***Data pre-processing (cleaning & scaling)***"
   ]
  },
  {
   "attachments": {},
   "cell_type": "markdown",
   "metadata": {},
   "source": [
    "Student Marks pre-processing"
   ]
  },
  {
   "cell_type": "code",
   "execution_count": null,
   "metadata": {},
   "outputs": [],
   "source": [
    "display(StudentMarks_features_train)\n",
    "print(StudentMarks_features_train.max(), \"\\n\")\n",
    "\n",
    "scaler = MinMaxScaler().fit(StudentMarks_features_train)\n",
    "StudentMarks_features_train_scaled = scaler.transform(StudentMarks_features_train)\n",
    "\n",
    "display(StudentMarks_features_train_scaled) #I will use the scaling at the end when we score the algorithms"
   ]
  },
  {
   "attachments": {},
   "cell_type": "markdown",
   "metadata": {},
   "source": [
    "Wine Quality pre-processing"
   ]
  },
  {
   "cell_type": "code",
   "execution_count": null,
   "metadata": {},
   "outputs": [],
   "source": [
    "display(WineQuality_features_train)\n",
    "print(WineQuality_features_train.max(), \"\\n\")\n",
    "\n",
    "scaler = MinMaxScaler().fit(WineQuality_features_train)\n",
    "WineQuality_features_train_scaled = scaler.transform(WineQuality_features_train)\n",
    "\n",
    "display(WineQuality_features_train_scaled)"
   ]
  },
  {
   "attachments": {},
   "cell_type": "markdown",
   "metadata": {},
   "source": [
    "Student Data pre-processing"
   ]
  },
  {
   "cell_type": "code",
   "execution_count": null,
   "metadata": {},
   "outputs": [],
   "source": [
    "display(StudentData_df)\n",
    "print(StudentData_df.keys())\n",
    "\n",
    "#I take a look at all of the columns, what kind of values they have\n",
    "def printUnique():\n",
    "    print(\"\\n\")\n",
    "    print(StudentData_df[\"school\"].unique())\n",
    "    print(StudentData_df[\"address\"].unique())\n",
    "    print(StudentData_df[\"famsize\"].unique())\n",
    "    print(StudentData_df[\"Pstatus\"].unique())\n",
    "    print(StudentData_df[\"Mjob\"].unique())\n",
    "    print(StudentData_df[\"Fjob\"].unique())\n",
    "    print(StudentData_df[\"reason\"].unique())\n",
    "    print(StudentData_df[\"guardian\"].unique())\n",
    "    print(StudentData_df[\"traveltime\"].unique())\n",
    "    print(StudentData_df[\"failures\"].unique())\n",
    "    print(StudentData_df[\"schoolsup\"].unique())\n",
    "    print(StudentData_df[\"famsup\"].unique())\n",
    "    print(StudentData_df[\"paid\"].unique())\n",
    "    print(StudentData_df[\"activities\"].unique())\n",
    "    print(StudentData_df[\"nursery\"].unique())\n",
    "    print(StudentData_df[\"higher\"].unique())\n",
    "    print(StudentData_df[\"internet\"].unique())\n",
    "    print(StudentData_df[\"romantic\"].unique())\n",
    "    print(\"\\n\")\n",
    "\n",
    "printUnique()\n",
    "\n",
    "#Feature encoding\n",
    "le = preprocessing.LabelEncoder()\n",
    "StudentData_df[\"sex\"] = le.fit_transform(StudentData_df[\"sex\"])\n",
    "StudentData_df[\"school\"] = le.fit_transform(StudentData_df[\"school\"])\n",
    "StudentData_df[\"address\"] = le.fit_transform(StudentData_df[\"address\"])\n",
    "StudentData_df[\"famsize\"] = le.fit_transform(StudentData_df[\"famsize\"])\n",
    "StudentData_df[\"Pstatus\"] = le.fit_transform(StudentData_df[\"Pstatus\"])\n",
    "StudentData_df[\"Mjob\"] = le.fit_transform(StudentData_df[\"Mjob\"])\n",
    "StudentData_df[\"Fjob\"] = le.fit_transform(StudentData_df[\"Fjob\"])\n",
    "StudentData_df[\"reason\"] = le.fit_transform(StudentData_df[\"reason\"])\n",
    "StudentData_df[\"guardian\"] = le.fit_transform(StudentData_df[\"guardian\"])\n",
    "StudentData_df[\"traveltime\"] = le.fit_transform(StudentData_df[\"traveltime\"])\n",
    "StudentData_df[\"failures\"] = le.fit_transform(StudentData_df[\"failures\"])\n",
    "StudentData_df[\"schoolsup\"] = le.fit_transform(StudentData_df[\"schoolsup\"])\n",
    "StudentData_df[\"famsup\"] = le.fit_transform(StudentData_df[\"famsup\"])\n",
    "StudentData_df[\"paid\"] = le.fit_transform(StudentData_df[\"paid\"])\n",
    "StudentData_df[\"activities\"] = le.fit_transform(StudentData_df[\"activities\"])\n",
    "StudentData_df[\"nursery\"] = le.fit_transform(StudentData_df[\"nursery\"])\n",
    "StudentData_df[\"higher\"] = le.fit_transform(StudentData_df[\"higher\"])\n",
    "StudentData_df[\"internet\"] = le.fit_transform(StudentData_df[\"internet\"])\n",
    "StudentData_df[\"romantic\"] = le.fit_transform(StudentData_df[\"romantic\"])\n",
    "\n",
    "printUnique()\n",
    "display(StudentData_df)\n",
    "\n",
    "StudentData_df[\"G1\"] = StudentData_df[\"G1\"] + StudentData_df[\"G2\"] + StudentData_df[\"G3\"]\n",
    "StudentData_df = StudentData_df.drop([\"G2\"], axis = 1)\n",
    "StudentData_df = StudentData_df.drop([\"G3\"], axis = 1)\n",
    "\n",
    "display(StudentData_df)"
   ]
  },
  {
   "attachments": {},
   "cell_type": "markdown",
   "metadata": {},
   "source": [
    "#### ***Post-pre-processing scores***"
   ]
  },
  {
   "attachments": {},
   "cell_type": "markdown",
   "metadata": {},
   "source": [
    "Student Marks"
   ]
  },
  {
   "cell_type": "code",
   "execution_count": null,
   "metadata": {},
   "outputs": [],
   "source": [
    "#ReSplitting the dataset\n",
    "StudentMarks_features_train_scaled, StudentMarks_features_test, StudentMarks_label_train, StudentMarks_label_test = train_test_split(StudentMarks_features, StudentMarks_label, random_state = 69)\n",
    "\n",
    "#ReTraining the model\n",
    "knn1 = KNeighborsRegressor(n_neighbors = 2).fit(StudentMarks_features_train_scaled , StudentMarks_label_train)\n",
    "lasso = Lasso().fit(StudentMarks_features_train_scaled, StudentMarks_label_train)\n",
    "tree1 = DecisionTreeRegressor().fit(StudentMarks_features_train_scaled, StudentMarks_label_train)\n",
    "\n",
    "#Scoring the algorithms\n",
    "knn1_train_score, knn1_test_score = knn1Score(StudentMarks_features_train_scaled, StudentMarks_label_train, StudentMarks_features_test, StudentMarks_label_test)\n",
    "lasso_train_score, lasso_test_score = lassoScore(StudentMarks_features_train_scaled, StudentMarks_label_train, StudentMarks_features_test, StudentMarks_label_test)\n",
    "tree1_train_score, tree1_test_score = tree1Score(StudentMarks_features_train_scaled, StudentMarks_label_train, StudentMarks_features_test, StudentMarks_label_test)\n",
    "\n",
    "#Printing the results\n",
    "printStudentMark()\n",
    "\n",
    "#I Still won't change the variables inside of the algorithm, I will play with those variables further down below\n",
    "#Small increase in accuracy for the Decision Tree Regressor, the others stayed the same"
   ]
  },
  {
   "attachments": {},
   "cell_type": "markdown",
   "metadata": {},
   "source": [
    "Wine Quality"
   ]
  },
  {
   "cell_type": "code",
   "execution_count": null,
   "metadata": {},
   "outputs": [],
   "source": [
    "#ReSplitting the dataset\n",
    "WineQuality_features_train_scaled, WineQuality_features_test, WineQuality_label_train, WineQuality_label_test = train_test_split(WineQuality_features, WineQuality_label, random_state = 69)\n",
    "\n",
    "#ReTraining the model\n",
    "knn2 = KNeighborsRegressor(n_neighbors = 2).fit(WineQuality_features_train_scaled , WineQuality_label_train)\n",
    "ridge = Ridge().fit(WineQuality_features_train_scaled, WineQuality_label_train)\n",
    "tree2 = DecisionTreeRegressor().fit(WineQuality_features_train_scaled, WineQuality_label_train)\n",
    "\n",
    "#Scoring the algorithms\n",
    "knn2_train_score, knn2_test_score = knn2Score(WineQuality_features_train_scaled, WineQuality_label_train, WineQuality_features_test, WineQuality_label_test)\n",
    "ridge_train_score, ridge_test_score = ridgeScore(WineQuality_features_train_scaled, WineQuality_label_train, WineQuality_features_test, WineQuality_label_test)\n",
    "tree2_train_score, tree2_test_score = tree2Score(WineQuality_features_train_scaled, WineQuality_label_train, WineQuality_features_test, WineQuality_label_test)\n",
    "\n",
    "#Printing the results\n",
    "printWineQuality()\n",
    "\n",
    "#I Still won't change the variables inside of the algorithm, I will play with those variables further down below\n",
    "#Small decrease in accuracy for the Decision Tree Regressor, the others stayed the same"
   ]
  },
  {
   "attachments": {},
   "cell_type": "markdown",
   "metadata": {},
   "source": [
    "Student Data"
   ]
  },
  {
   "cell_type": "code",
   "execution_count": null,
   "metadata": {},
   "outputs": [],
   "source": [
    "StudentData_features = StudentData_df.loc[:, \"school\":\"absences\"] #Get all of the features\n",
    "StudentData_label = StudentData_df[\"G1\"] #Get all of the labels (target values)\n",
    "StudentData_features_train, StudentData_features_test, StudentData_label_train, StudentData_label_test = train_test_split(StudentData_features, StudentData_label, random_state = 69)\n",
    "\n",
    "knn3 = KNeighborsRegressor(n_neighbors = 2).fit(StudentData_features_train, StudentData_label_train) \n",
    "lasso3 = Lasso().fit(StudentData_features_train, StudentData_label_train) \n",
    "tree3 = DecisionTreeRegressor().fit(StudentData_features_train, StudentData_label_train)"
   ]
  },
  {
   "cell_type": "code",
   "execution_count": null,
   "metadata": {},
   "outputs": [],
   "source": [
    "def knn3Score(StudentData_features_train, StudentData_label_train, StudentData_features_test, StudentData_label_test):\n",
    "    train_score = knn3.score(StudentData_features_train, StudentData_label_train)\n",
    "    test_score = knn3.score(StudentData_features_test, StudentData_label_test)\n",
    "    return train_score, test_score\n",
    "\n",
    "def lasso3Score(StudentData_features_train, StudentData_label_train, StudentData_features_test, StudentData_label_test):\n",
    "    train_score = lasso3.score(StudentData_features_train, StudentData_label_train)\n",
    "    test_score = lasso3.score(StudentData_features_test, StudentData_label_test)\n",
    "    return train_score, test_score\n",
    "\n",
    "def tree3Score(StudentData_features_train, StudentData_label_train, StudentData_features_test, StudentData_label_test):\n",
    "    train_score = tree3.score(StudentData_features_train, StudentData_label_train)\n",
    "    test_score = tree3.score(StudentData_features_test, StudentData_label_test)\n",
    "    return train_score, test_score\n",
    "\n",
    "knn3_train_score, knn3_test_score = knn3Score(StudentData_features_train, StudentData_label_train, StudentData_features_test, StudentData_label_test)\n",
    "lasso3_train_score, lasso3_test_score = lasso3Score(StudentData_features_train, StudentData_label_train, StudentData_features_test, StudentData_label_test)\n",
    "tree3_train_score, tree3_test_score = tree3Score(StudentData_features_train, StudentData_label_train, StudentData_features_test, StudentData_label_test)\n",
    "\n",
    "def printKnn3(knn3_train_score, knn3_test_score):\n",
    "    print(\"Student Data KNN Regressor - Training set score: {:.4f}\".format(knn3_train_score))\n",
    "    print(\"Student Data KNN Regressor - Test set score: {:.4f}\".format(knn3_test_score))\n",
    "\n",
    "def printLasso3(lasso3_train_score, lasso3_test_score):\n",
    "    print(\"\\nStudent Data Lasso - Training set score: {:.4f}\".format(lasso3_train_score))\n",
    "    print(\"Student Data Lasso - Test set score: {:.4f}\".format(lasso3_test_score))\n",
    "\n",
    "def printTree3(tree3_train_score, tree3_test_score):\n",
    "    print(\"\\nStudent Data Decision Tree Regressor - Training set score: {:.4f}\".format(tree3_train_score))\n",
    "    print(\"Student Data Decision Tree Regressor - Test set score: {:.4f}\".format(tree3_test_score))\n",
    "\n",
    "def printStudentData():\n",
    "    printKnn3(knn3_train_score, knn3_test_score)\n",
    "    printLasso3(lasso3_train_score, lasso3_test_score)\n",
    "    printTree3(tree3_train_score, tree3_test_score)\n",
    "\n",
    "printStudentData()"
   ]
  },
  {
   "attachments": {},
   "cell_type": "markdown",
   "metadata": {},
   "source": [
    "#### ***Data analysis***\n",
    "\n",
    "I will start off by looking at all of the heatmaps."
   ]
  },
  {
   "attachments": {},
   "cell_type": "markdown",
   "metadata": {},
   "source": [
    "**Student Marks**"
   ]
  },
  {
   "cell_type": "code",
   "execution_count": null,
   "metadata": {},
   "outputs": [],
   "source": [
    "sns.heatmap(StudentMarks_df.corr())"
   ]
  },
  {
   "attachments": {},
   "cell_type": "markdown",
   "metadata": {},
   "source": [
    "Since we have only 2 features here, I don't think there is much to be learned from this heatmap besides that there is a strong correlation between geting good marks and time studied."
   ]
  },
  {
   "attachments": {},
   "cell_type": "markdown",
   "metadata": {},
   "source": [
    "**Wine Quality**"
   ]
  },
  {
   "cell_type": "code",
   "execution_count": null,
   "metadata": {},
   "outputs": [],
   "source": [
    "sns.heatmap(WineQuality_df.corr())"
   ]
  },
  {
   "attachments": {},
   "cell_type": "markdown",
   "metadata": {},
   "source": [
    "In this heatmap we can find some interesting bits of information. Like for example that quality is correlated with alcohol, sulphates, citric acid and fixed acidity."
   ]
  },
  {
   "attachments": {},
   "cell_type": "markdown",
   "metadata": {},
   "source": [
    "**Student Data**"
   ]
  },
  {
   "cell_type": "code",
   "execution_count": null,
   "metadata": {},
   "outputs": [],
   "source": [
    "sns.heatmap(StudentData_df.corr())"
   ]
  },
  {
   "attachments": {},
   "cell_type": "markdown",
   "metadata": {},
   "source": [
    "In this heatmap there are a lot of features so it's a bit hard to figure out what correlates to what."
   ]
  },
  {
   "attachments": {},
   "cell_type": "markdown",
   "metadata": {},
   "source": [
    "#### ***Final scores and conclusions***"
   ]
  },
  {
   "attachments": {},
   "cell_type": "markdown",
   "metadata": {},
   "source": [
    "**Student Marks**\n",
    "\n",
    "Now we test different values for the algorithms."
   ]
  },
  {
   "cell_type": "code",
   "execution_count": null,
   "metadata": {},
   "outputs": [],
   "source": [
    "#KNN regressor\n",
    "StudentMarks_features_train, StudentMarks_features_test, StudentMarks_label_train, StudentMarks_label_test = train_test_split(StudentMarks_features, StudentMarks_label, random_state = 69)\n",
    "\n",
    "arr_training = list()\n",
    "arr_test = list()\n",
    "\n",
    "for i in range(1,21):\n",
    "    knn1 = KNeighborsRegressor(n_neighbors=i).fit(StudentMarks_features_train , StudentMarks_label_train)\n",
    "    arr_training.append(knn1.score(StudentMarks_features_train, StudentMarks_label_train))\n",
    "    arr_test.append(knn1.score(StudentMarks_features_test, StudentMarks_label_test))\n",
    "\n",
    "train = arr_training\n",
    "test = arr_test\n",
    "\n",
    "plt.plot(train)\n",
    "plt.plot(test)\n",
    "plt.legend([\"Train Accuracy\",\"Test Accuracy\"], loc = 1)\n",
    "plt.xlabel(\"n_neigbours\")\n",
    "plt.ylabel(\"Accuracy\")\n",
    "plt.show()"
   ]
  },
  {
   "cell_type": "code",
   "execution_count": null,
   "metadata": {},
   "outputs": [],
   "source": [
    "#Lasso\n",
    "arr_training = list()\n",
    "arr_test = list()\n",
    "\n",
    "for i in range(1,21):\n",
    "    lasso = Lasso().fit(StudentMarks_features_train, StudentMarks_label_train)\n",
    "    arr_training.append(lasso.score(StudentMarks_features_train, StudentMarks_label_train))\n",
    "    arr_test.append(lasso.score(StudentMarks_features_test, StudentMarks_label_test))\n",
    "\n",
    "train = arr_training\n",
    "test = arr_test\n",
    "\n",
    "plt.plot(train)\n",
    "plt.plot(test)\n",
    "plt.legend([\"Train Accuracy\",\"Test Accuracy\"], loc = 1)\n",
    "plt.xlabel(\"n_neigbours\")\n",
    "plt.ylabel(\"Accuracy\")\n",
    "plt.show()"
   ]
  },
  {
   "cell_type": "code",
   "execution_count": null,
   "metadata": {},
   "outputs": [],
   "source": [
    "#Decision Tree Regressor"
   ]
  },
  {
   "cell_type": "code",
   "execution_count": null,
   "metadata": {},
   "outputs": [],
   "source": [
    "#ReTraining the model to the optimal variables\n",
    "knn1 = KNeighborsRegressor(n_neighbors = 3).fit(StudentMarks_features_train , StudentMarks_label_train)\n",
    "lasso = Lasso().fit(StudentMarks_features_train, StudentMarks_label_train)\n",
    "tree1 = DecisionTreeRegressor().fit(StudentMarks_features_train_scaled, StudentMarks_label_train)\n",
    "\n",
    "#Scoring the algorithms\n",
    "knn1_train_score, knn1_test_score = knn1Score(StudentMarks_features_train, StudentMarks_label_train, StudentMarks_features_test, StudentMarks_label_test)\n",
    "lasso_train_score, lasso_test_score = lassoScore(StudentMarks_features_train, StudentMarks_label_train, StudentMarks_features_test, StudentMarks_label_test)\n",
    "tree1_train_score, tree1_test_score = tree1Score(StudentMarks_features_train, StudentMarks_label_train, StudentMarks_features_test, StudentMarks_label_test)\n",
    "\n",
    "#Printing the results\n",
    "printStudentMark()"
   ]
  },
  {
   "attachments": {},
   "cell_type": "markdown",
   "metadata": {},
   "source": [
    "**Wine Quality**\n",
    "\n",
    "Now we test different values for the algorithms."
   ]
  },
  {
   "cell_type": "code",
   "execution_count": null,
   "metadata": {},
   "outputs": [],
   "source": [
    "#ReSplitting the dataset\n",
    "WineQuality_features_train, WineQuality_features_test, WineQuality_label_train, WineQuality_label_test = train_test_split(WineQuality_features, WineQuality_label, random_state = 69)\n",
    "\n",
    "#ReTraining the model\n",
    "knn2 = KNeighborsRegressor(n_neighbors = 2).fit(WineQuality_features_train , WineQuality_label_train)\n",
    "ridge = Ridge().fit(WineQuality_features_train, WineQuality_label_train)\n",
    "tree2 = DecisionTreeRegressor().fit(WineQuality_features_train, WineQuality_label_train)\n",
    "\n",
    "#Scoring the algorithms\n",
    "knn2_train_score, knn2_test_score = knn2Score(WineQuality_features_train, WineQuality_label_train, WineQuality_features_test, WineQuality_label_test)\n",
    "ridge_train_score, ridge_test_score = ridgeScore(WineQuality_features_train, WineQuality_label_train, WineQuality_features_test, WineQuality_label_test)\n",
    "tree2_train_score, tree2_test_score = tree2Score(WineQuality_features_train, WineQuality_label_train, WineQuality_features_test, WineQuality_label_test)\n",
    "\n",
    "#Printing the results\n",
    "printWineQuality()"
   ]
  },
  {
   "attachments": {},
   "cell_type": "markdown",
   "metadata": {},
   "source": [
    "**Student Data**\n",
    "\n",
    "Now we test different values for the algorithms."
   ]
  },
  {
   "cell_type": "code",
   "execution_count": null,
   "metadata": {},
   "outputs": [],
   "source": [
    "#ReSplitting the dataset\n",
    "StudentData_features_train, StudentData_features_test, StudentData_label_train, StudentData_label_test = train_test_split(StudentData_features, StudentData_label, random_state = 69)\n",
    "\n",
    "#ReTraining the model\n",
    "knn3 = KNeighborsRegressor(n_neighbors = 2).fit(StudentData_features_train, StudentData_label_train) \n",
    "lasso3 = Lasso().fit(StudentData_features_train, StudentData_label_train) \n",
    "tree3 = DecisionTreeRegressor().fit(StudentData_features_train, StudentData_label_train)\n",
    "\n",
    "#Scoring the algorithms\n",
    "knn3_train_score, knn3_test_score = knn3Score(StudentData_features_train, StudentData_label_train, StudentData_features_test, StudentData_label_test)\n",
    "lasso3_train_score, lasso3_test_score = lasso3Score(StudentData_features_train, StudentData_label_train, StudentData_features_test, StudentData_label_test)\n",
    "tree3_train_score, tree3_test_score = tree3Score(StudentData_features_train, StudentData_label_train, StudentData_features_test, StudentData_label_test)\n",
    "\n",
    "#Printing the results\n",
    "printStudentData()"
   ]
  }
 ],
 "metadata": {
  "kernelspec": {
   "display_name": "Python 3.11.0 64-bit",
   "language": "python",
   "name": "python3"
  },
  "language_info": {
   "codemirror_mode": {
    "name": "ipython",
    "version": 3
   },
   "file_extension": ".py",
   "mimetype": "text/x-python",
   "name": "python",
   "nbconvert_exporter": "python",
   "pygments_lexer": "ipython3",
   "version": "3.11.0"
  },
  "orig_nbformat": 4,
  "vscode": {
   "interpreter": {
    "hash": "cd1d0682ec70044adb5049338b1d0c636c5fd41119f34be0ccb6f45c5d9957e7"
   }
  }
 },
 "nbformat": 4,
 "nbformat_minor": 2
}
