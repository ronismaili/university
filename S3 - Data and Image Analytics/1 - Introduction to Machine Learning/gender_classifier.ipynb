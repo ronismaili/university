{
 "cells": [
  {
   "cell_type": "code",
   "execution_count": null,
   "id": "39b1b6ab-c7b2-4b9d-b5b6-8e0d6e9ea045",
   "metadata": {},
   "outputs": [],
   "source": [
    "import pandas as pd\n",
    "from sklearn.model_selection import train_test_split\n",
    "import numpy as np\n",
    "from sklearn.neighbors import KNeighborsClassifier\n",
    "import matplotlib.pyplot as plt # Graphics / Drawings in python\n",
    "\n",
    "df_female = pd.read_csv('female_spanish_names_reduced.csv')\n",
    "df_male = pd.read_csv('male_spanish_names_reduced.csv')\n",
    "\n",
    "# Created by Ron Ismaili, Manuel Mansilla Cordero and Alberto Gamez Gonzalez"
   ]
  },
  {
   "cell_type": "code",
   "execution_count": null,
   "id": "1ab5d399-286b-4096-8871-b4fc509de737",
   "metadata": {
    "tags": []
   },
   "outputs": [],
   "source": [
    "display(df_female)\n",
    "display(df_male)"
   ]
  },
  {
   "cell_type": "code",
   "execution_count": null,
   "id": "fb93b0c5-9b7b-40d8-a81b-7b2f0ddfb5f3",
   "metadata": {
    "tags": []
   },
   "outputs": [],
   "source": [
    "df_female['Gender'] = 0\n",
    "display(df_female)"
   ]
  },
  {
   "cell_type": "code",
   "execution_count": null,
   "id": "118e7cfa-ec78-49ab-9c29-2033ee330d3c",
   "metadata": {
    "tags": []
   },
   "outputs": [],
   "source": [
    "df_male['Gender'] = 1\n",
    "display(df_male)"
   ]
  },
  {
   "cell_type": "code",
   "execution_count": null,
   "id": "57fefc2d-6807-4791-9855-8a018cce5e79",
   "metadata": {
    "tags": []
   },
   "outputs": [],
   "source": [
    "df = [df_female,df_male]\n",
    "df_all = pd.concat(df)\n",
    "display(df_all)"
   ]
  },
  {
   "cell_type": "code",
   "execution_count": null,
   "id": "fe264f42-ebd9-4001-87a1-419dba5a5870",
   "metadata": {
    "tags": []
   },
   "outputs": [],
   "source": [
    "def extract_last_letter(str):\n",
    "    return str[-1]\n",
    "def extract_next_to_last_letter(str):\n",
    "    return str[-2]\n",
    "def extract_next_to_next_to_last_letter(str):\n",
    "    return str[0]\n",
    "def separate(str):\n",
    "    vector  = str.split(\" \")\n",
    "    return vector[0]\n",
    "def length(str):\n",
    "    return len(str)\n",
    "\n",
    "df_all[\"First_Name\"]= df_all[\"Name\"].apply(separate)\n",
    "df_all[\"Last_letter\"]=df_all[\"First_Name\"].apply(extract_last_letter)\n",
    "df_all[\"Next_to_last_letter\"]=df_all[\"First_Name\"].apply(extract_next_to_last_letter)\n",
    "df_all[\"First_letter\"]=df_all[\"First_Name\"].apply(extract_next_to_next_to_last_letter)\n",
    "df_all[\"Length\"]=df_all[\"First_Name\"].apply(length)\n",
    "\n",
    "display(df_all)"
   ]
  },
  {
   "cell_type": "code",
   "execution_count": null,
   "id": "63caed99-c7c7-49ca-8108-169f5e7cd2c8",
   "metadata": {
    "tags": []
   },
   "outputs": [],
   "source": [
    "def letter_to_number(str):\n",
    "    return ord(str)\n",
    "\n",
    "df_all[\"Letter_to_number_1\"]=df_all[\"Last_letter\"].apply(letter_to_number)\n",
    "df_all[\"Letter_to_number_2\"]=df_all[\"Next_to_last_letter\"].apply(letter_to_number)\n",
    "df_all[\"Letter_to_number_3\"]=df_all[\"First_letter\"].apply(letter_to_number)\n",
    "display(df_all)"
   ]
  },
  {
   "cell_type": "code",
   "execution_count": null,
   "id": "10ca0b90-278e-4148-b475-bee2daa94b94",
   "metadata": {},
   "outputs": [],
   "source": [
    "gender_np = df_all.Gender.to_numpy()\n",
    "criterios_np = df_all[['Letter_to_number_1','Letter_to_number_2','Letter_to_number_3','Length']].to_numpy()"
   ]
  },
  {
   "cell_type": "code",
   "execution_count": null,
   "id": "c36a9388-3e3a-46d4-967c-9e9c205c25b2",
   "metadata": {
    "tags": []
   },
   "outputs": [],
   "source": [
    "# Training section\n",
    "X_train, X_test, y_train, y_test = train_test_split(\n",
    "    criterios_np , gender_np , random_state=0)\n",
    "\n",
    "X_train = X_train.astype('int')\n",
    "X_test = X_test.astype('int')"
   ]
  },
  {
   "cell_type": "code",
   "execution_count": null,
   "id": "6ec8bbd5-29ee-4375-8b89-d2b4acd18629",
   "metadata": {},
   "outputs": [],
   "source": [
    "# Set the neighbor class\n",
    "knn = KNeighborsClassifier(n_neighbors=1)\n",
    "knn.fit(X_train , y_train)\n",
    "\n",
    "y_pred = knn.predict(X_test)\n",
    "print(\"Test set predictions:\\n\", y_pred)"
   ]
  },
  {
   "cell_type": "code",
   "execution_count": null,
   "id": "95856068-cbfb-47a2-a4a0-bb75d3fdebff",
   "metadata": {},
   "outputs": [],
   "source": [
    "print(\"Test set score: {:.2f}\".format(knn.score(X_test, y_test)))"
   ]
  },
  {
   "cell_type": "code",
   "execution_count": null,
   "id": "c5c9e194-cec4-4db0-aa6a-e2975716ac35",
   "metadata": {},
   "outputs": [],
   "source": [
    "df_data = pd.read_csv('test_dataset.csv',\n",
    "                     sep=';')\n",
    "\n",
    "df_data[\"First_Name\"]= df_data[\"Name\"].apply(separate)\n",
    "df_data[\"Last_letter\"]=df_data[\"First_Name\"].apply(extract_last_letter)\n",
    "df_data[\"Next_to_last_letter\"]=df_data[\"First_Name\"].apply(extract_next_to_last_letter)\n",
    "df_data[\"First_letter\"]=df_data[\"First_Name\"].apply(extract_next_to_next_to_last_letter)\n",
    "df_data[\"Length\"]=df_data[\"First_Name\"].apply(length)\n",
    "\n",
    "df_data[\"Letter_to_number_1\"]=df_data[\"Last_letter\"].apply(letter_to_number)\n",
    "df_data[\"Letter_to_number_2\"]=df_data[\"Next_to_last_letter\"].apply(letter_to_number)\n",
    "df_data[\"Letter_to_number_3\"]=df_data[\"First_letter\"].apply(letter_to_number)\n",
    "\n",
    "y_Test = df_data.Gender.to_numpy()\n",
    "X_Test = df_data[['Letter_to_number_1','Letter_to_number_2','Letter_to_number_3','Length']].to_numpy()\n",
    "\n",
    "print(\"Test set score: {:.2f}\".format(knn.score(X_Test, y_Test)))"
   ]
  }
 ],
 "metadata": {
  "kernelspec": {
   "display_name": "Python 3 (ipykernel)",
   "language": "python",
   "name": "python3"
  },
  "language_info": {
   "codemirror_mode": {
    "name": "ipython",
    "version": 3
   },
   "file_extension": ".py",
   "mimetype": "text/x-python",
   "name": "python",
   "nbconvert_exporter": "python",
   "pygments_lexer": "ipython3",
   "version": "3.10.7"
  }
 },
 "nbformat": 4,
 "nbformat_minor": 5
}
